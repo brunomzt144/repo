{
  "cells": [
    {
      "cell_type": "markdown",
      "metadata": {
        "id": "view-in-github",
        "colab_type": "text"
      },
      "source": [
        "<a href=\"https://colab.research.google.com/github/brunomzt144/repo/blob/main/C%C3%B3pia_de_Repeti%C3%A7%C3%A3o_Condicionada.ipynb\" target=\"_parent\"><img src=\"https://colab.research.google.com/assets/colab-badge.svg\" alt=\"Open In Colab\"/></a>"
      ]
    },
    {
      "cell_type": "code",
      "execution_count": null,
      "metadata": {
        "id": "hovBpOSzOq3i"
      },
      "outputs": [],
      "source": [
        "peso = 0\n",
        "totalPeso = 0 \n",
        "\n",
        "while totalPeso < 500:\n",
        "  peso = int(input('Insira seu peso '))\n",
        "  totalPeso = totalPeso + peso\n",
        "print('Peso excedido')"
      ]
    },
    {
      "cell_type": "code",
      "source": [
        "dividendo = int(input('Insira o numero a ser divido '))\n",
        "divisor = int(input('insira o numero que irá dividir '))\n",
        "c = 0\n",
        "while dividendo > divisor:\n",
        "  dividendo -= divisor\n",
        "  c +=1\n",
        "print('Divisão', c,'Resto',dividendo)\n",
        "\n",
        "\n"
      ],
      "metadata": {
        "id": "unWrJjDTxxm2"
      },
      "execution_count": null,
      "outputs": []
    },
    {
      "cell_type": "code",
      "source": [
        "notas = 1\n",
        "while notas !=0:\n",
        "  notas = float(input('Insira a nota '))\n",
        "  print(notas)"
      ],
      "metadata": {
        "id": "IGiXy_Z50Xe9"
      },
      "execution_count": null,
      "outputs": []
    },
    {
      "cell_type": "code",
      "execution_count": null,
      "metadata": {
        "id": "fTWTSITXbeUI"
      },
      "outputs": [],
      "source": [
        "pInicial = 1000000\n",
        "natalidade = 0.01\n",
        "mortalidade = 0.06\n",
        "anoInicio = 1600\n",
        "natalidadeAnual = 0\n",
        "mortalidadeAnual = 0\n",
        "natalidadeFinal = 0\n",
        "mortalidadeFinal = 0\n",
        "popFinal = 1000000\n",
        "\n",
        "while popFinal > 100000:\n",
        "  mortalidadeAnual = round(popFinal * mortalidade)\n",
        "  natalidadeAnual = round(popFinal * natalidade)\n",
        "  mortalidadeFinal += mortalidadeAnual\n",
        "  natalidadeFinal += natalidadeAnual\n",
        "  popFinal = popFinal - mortalidadeAnual + natalidadeAnual\n",
        "  anoInicio += 1\n",
        "print('Natalidade Total',natalidadeFinal)\n",
        "print(natalidadeAnual, ' Dodos nasceram no ano: ', anoInicio)\n",
        "print('Mortalidade Total', mortalidadeFinal)\n",
        "print(mortalidadeAnual,' Dodos morreram no ano: ', anoInicio)\n",
        "print('popFinal',popFinal)\n",
        "print('Ano final', anoInicio)"
      ]
    },
    {
      "cell_type": "code",
      "source": [
        "tDistancia = 500\n",
        "lDistancia = 0\n",
        "c = 0\n",
        "\n",
        "while lDistancia <= tDistancia:\n",
        "  tDistancia +=1\n",
        "  lDistancia +=10\n",
        "  c+=1\n",
        "print(c,'Minutos até a lebre alcançar a tartaruga')"
      ],
      "metadata": {
        "id": "-_VF6LGyUNAO"
      },
      "execution_count": null,
      "outputs": []
    },
    {
      "cell_type": "code",
      "source": [
        "aplicacao = 10000\n",
        "carro = 12000\n",
        "jAplicacao = 0.07\n",
        "jCarro = 0.04\n",
        "mes = 0\n",
        "while aplicacao <= carro:\n",
        "  aplicacao = aplicacao + (aplicacao * jAplicacao)\n",
        "  print('app', aplicacao)\n",
        "  carro = carro + (carro * jCarro)\n",
        "  print('carro', carro)\n",
        "  mes+=1\n",
        "print('meses', mes)"
      ],
      "metadata": {
        "id": "Z0lPfFYjV8rc"
      },
      "execution_count": null,
      "outputs": []
    },
    {
      "cell_type": "code",
      "source": [
        "tDistancia = int(input('Insira a distancia que a tartaruga saiu na frente '))\n",
        "lDistancia = 0\n",
        "tVelocidade = int(input('Quantos metros por minutos faz a tartaruga '))\n",
        "lVelocidade = int(input('Quantos metros por minutos faz a lebre '))\n",
        "c = 0\n",
        "if lVelocidade > tVelocidade:\n",
        "  while lDistancia <= tDistancia:\n",
        "    tDistancia = tDistancia + tVelocidade\n",
        "    lDistancia = lDistancia + lVelocidade\n",
        "    c+=1\n",
        "else:\n",
        "    print('A tartaruga é muito rapida')\n",
        "print(c,'Minutos até a lebre alcançar a tartaruga')"
      ],
      "metadata": {
        "id": "96jws4gFZaS8"
      },
      "execution_count": null,
      "outputs": []
    }
  ],
  "metadata": {
    "colab": {
      "collapsed_sections": [],
      "name": "Cópia de Repetição Condicionada.ipynb",
      "provenance": [],
      "authorship_tag": "ABX9TyP/U1+0OQoT2vIi3nS0hETf",
      "include_colab_link": true
    },
    "kernelspec": {
      "display_name": "Python 3",
      "name": "python3"
    },
    "language_info": {
      "name": "python"
    }
  },
  "nbformat": 4,
  "nbformat_minor": 0
}